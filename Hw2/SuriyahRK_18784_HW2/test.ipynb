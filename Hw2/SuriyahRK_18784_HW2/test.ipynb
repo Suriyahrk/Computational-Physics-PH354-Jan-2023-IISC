{
 "cells": [
  {
   "cell_type": "code",
   "execution_count": 1,
   "metadata": {},
   "outputs": [
    {
     "ename": "ModuleNotFoundError",
     "evalue": "No module named 'Integration'",
     "output_type": "error",
     "traceback": [
      "\u001b[1;31m---------------------------------------------------------------------------\u001b[0m",
      "\u001b[1;31mModuleNotFoundError\u001b[0m                       Traceback (most recent call last)",
      "\u001b[1;32mc:\\Users\\suriy\\OneDrive - Indian Institute of Science\\Desktop\\HW2\\test.ipynb Cell 1\u001b[0m in \u001b[0;36m<cell line: 5>\u001b[1;34m()\u001b[0m\n\u001b[0;32m      <a href='vscode-notebook-cell:/c%3A/Users/suriy/OneDrive%20-%20Indian%20Institute%20of%20Science/Desktop/HW2/test.ipynb#W0sZmlsZQ%3D%3D?line=2'>3</a>\u001b[0m \u001b[39mimport\u001b[39;00m \u001b[39mmatplotlib\u001b[39;00m\u001b[39m.\u001b[39;00m\u001b[39mpyplot\u001b[39;00m \u001b[39mas\u001b[39;00m \u001b[39mplt\u001b[39;00m\n\u001b[0;32m      <a href='vscode-notebook-cell:/c%3A/Users/suriy/OneDrive%20-%20Indian%20Institute%20of%20Science/Desktop/HW2/test.ipynb#W0sZmlsZQ%3D%3D?line=3'>4</a>\u001b[0m \u001b[39mimport\u001b[39;00m \u001b[39mpandas\u001b[39;00m \u001b[39mas\u001b[39;00m \u001b[39mpd\u001b[39;00m\n\u001b[1;32m----> <a href='vscode-notebook-cell:/c%3A/Users/suriy/OneDrive%20-%20Indian%20Institute%20of%20Science/Desktop/HW2/test.ipynb#W0sZmlsZQ%3D%3D?line=4'>5</a>\u001b[0m \u001b[39mfrom\u001b[39;00m \u001b[39mIntegration\u001b[39;00m \u001b[39mimport\u001b[39;00m CI \n\u001b[0;32m      <a href='vscode-notebook-cell:/c%3A/Users/suriy/OneDrive%20-%20Indian%20Institute%20of%20Science/Desktop/HW2/test.ipynb#W0sZmlsZQ%3D%3D?line=6'>7</a>\u001b[0m \u001b[39mdef\u001b[39;00m \u001b[39mJ\u001b[39m(m,x):  \u001b[39m# for given value of ma nd x we need to perform the integral on theta\u001b[39;00m\n\u001b[0;32m      <a href='vscode-notebook-cell:/c%3A/Users/suriy/OneDrive%20-%20Indian%20Institute%20of%20Science/Desktop/HW2/test.ipynb#W0sZmlsZQ%3D%3D?line=8'>9</a>\u001b[0m     theta \u001b[39m=\u001b[39m smp\u001b[39m.\u001b[39msymbols(\u001b[39m\"\u001b[39m\u001b[39mtheta\u001b[39m\u001b[39m\"\u001b[39m)\n",
      "\u001b[1;31mModuleNotFoundError\u001b[0m: No module named 'Integration'"
     ]
    }
   ],
   "source": [
    "import numpy as np\n",
    "import sympy as smp\n",
    "import matplotlib.pyplot as plt\n",
    "import pandas as pd\n",
    "from Integration import CI \n",
    "\n",
    "def J(m,x):  # for given value of ma nd x we need to perform the integral on theta\n",
    "\n",
    "    theta = smp.symbols(\"theta\")\n",
    "    f = smp.cos(m*theta-x*smp.sin(theta))\n",
    "\n",
    "    return CI(0,np.pi,f,theta,100,2)\n",
    "\n",
    "x = np.arange(0,20,0.1)\n",
    "\n",
    "J_0 = []\n",
    "J_1 = []\n",
    "J_2 = []\n",
    "\n",
    "\n",
    "for i in np.arange(0,200):\n",
    "    J_0.append(J(0,i*0.1))\n",
    "\n",
    "for i in np.arange(0,200):\n",
    "    J_1.append(J(1,i*0.1))\n",
    "\n",
    "for i in np.arange(0,200):\n",
    "    J_2.append(J(2,i*0.1))\n",
    "\n",
    "plt.plot(x,J_0)\n",
    "plt.plot(x,J_1)\n",
    "plt.plot(x,J_2)\n",
    "plt.xlabel(\"x\")\n",
    "plt.ylabel(\"J_m(x)\")\n",
    "plt.title(\"Bessel functions\")\n",
    "plt.legend([\"J_0(x)\",\"J_1(x)\",\"J_2(x)\"])\n",
    "plt.show()"
   ]
  },
  {
   "cell_type": "code",
   "execution_count": null,
   "metadata": {},
   "outputs": [
    {
     "name": "stdout",
     "output_type": "stream",
     "text": [
      "[  5.  10.  15.  20.  25.  30.  35.  40.  45.  50.  55.  60.  65.  70.\n",
      "  75.  80.  85.  90.  95. 100. 105. 110. 115. 120. 125. 130. 135. 140.\n",
      " 145. 150. 155. 160. 165. 170. 175. 180. 185. 190. 195. 200. 205. 210.\n",
      " 215. 220. 225. 230. 235. 240. 245. 250. 255. 260. 265. 270. 275. 280.\n",
      " 285. 290. 295. 300. 305. 310. 315. 320. 325. 330. 335. 340. 345. 350.\n",
      " 355. 360. 365. 370. 375. 380. 385. 390. 395. 400. 405. 410. 415. 420.\n",
      " 425. 430. 435. 440. 445. 450. 455. 460. 465. 470. 475. 480. 485. 490.\n",
      " 495. 500.]\n"
     ]
    }
   ],
   "source": [
    "import numpy as np\n",
    "T = np.linspace(5,500,100)\n",
    "print(T)"
   ]
  },
  {
   "cell_type": "code",
   "execution_count": null,
   "metadata": {},
   "outputs": [
    {
     "ename": "KeyboardInterrupt",
     "evalue": "",
     "output_type": "error",
     "traceback": [
      "\u001b[1;31m---------------------------------------------------------------------------\u001b[0m",
      "\u001b[1;31mKeyboardInterrupt\u001b[0m                         Traceback (most recent call last)",
      "\u001b[1;32mc:\\Users\\suriy\\OneDrive - Indian Institute of Science\\Desktop\\HW2\\test.ipynb Cell 3\u001b[0m in \u001b[0;36m<cell line: 60>\u001b[1;34m()\u001b[0m\n\u001b[0;32m     <a href='vscode-notebook-cell:/c%3A/Users/suriy/OneDrive%20-%20Indian%20Institute%20of%20Science/Desktop/HW2/test.ipynb#W2sZmlsZQ%3D%3D?line=57'>58</a>\u001b[0m C_V \u001b[39m=\u001b[39m []\n\u001b[0;32m     <a href='vscode-notebook-cell:/c%3A/Users/suriy/OneDrive%20-%20Indian%20Institute%20of%20Science/Desktop/HW2/test.ipynb#W2sZmlsZQ%3D%3D?line=59'>60</a>\u001b[0m \u001b[39mfor\u001b[39;00m i \u001b[39min\u001b[39;00m np\u001b[39m.\u001b[39marange(\u001b[39m1\u001b[39m,\u001b[39m100\u001b[39m):\n\u001b[1;32m---> <a href='vscode-notebook-cell:/c%3A/Users/suriy/OneDrive%20-%20Indian%20Institute%20of%20Science/Desktop/HW2/test.ipynb#W2sZmlsZQ%3D%3D?line=60'>61</a>\u001b[0m     C_V\u001b[39m.\u001b[39mappend(Cv(\u001b[39m5\u001b[39;49m\u001b[39m*\u001b[39;49mi))\n\u001b[0;32m     <a href='vscode-notebook-cell:/c%3A/Users/suriy/OneDrive%20-%20Indian%20Institute%20of%20Science/Desktop/HW2/test.ipynb#W2sZmlsZQ%3D%3D?line=62'>63</a>\u001b[0m plt\u001b[39m.\u001b[39mplot(T_,C_V)\n\u001b[0;32m     <a href='vscode-notebook-cell:/c%3A/Users/suriy/OneDrive%20-%20Indian%20Institute%20of%20Science/Desktop/HW2/test.ipynb#W2sZmlsZQ%3D%3D?line=63'>64</a>\u001b[0m plt\u001b[39m.\u001b[39mxlabel(\u001b[39m\"\u001b[39m\u001b[39mx\u001b[39m\u001b[39m\"\u001b[39m)\n",
      "\u001b[1;32mc:\\Users\\suriy\\OneDrive - Indian Institute of Science\\Desktop\\HW2\\test.ipynb Cell 3\u001b[0m in \u001b[0;36mCv\u001b[1;34m(T)\u001b[0m\n\u001b[0;32m     <a href='vscode-notebook-cell:/c%3A/Users/suriy/OneDrive%20-%20Indian%20Institute%20of%20Science/Desktop/HW2/test.ipynb#W2sZmlsZQ%3D%3D?line=51'>52</a>\u001b[0m k_b \u001b[39m=\u001b[39m \u001b[39m1.380649\u001b[39m\u001b[39m*\u001b[39m\u001b[39m10\u001b[39m\u001b[39m*\u001b[39m\u001b[39m*\u001b[39m(\u001b[39m-\u001b[39m\u001b[39m23\u001b[39m)\n\u001b[0;32m     <a href='vscode-notebook-cell:/c%3A/Users/suriy/OneDrive%20-%20Indian%20Institute%20of%20Science/Desktop/HW2/test.ipynb#W2sZmlsZQ%3D%3D?line=52'>53</a>\u001b[0m O_D\u001b[39m=\u001b[39m \u001b[39m428\u001b[39m\n\u001b[1;32m---> <a href='vscode-notebook-cell:/c%3A/Users/suriy/OneDrive%20-%20Indian%20Institute%20of%20Science/Desktop/HW2/test.ipynb#W2sZmlsZQ%3D%3D?line=54'>55</a>\u001b[0m \u001b[39mreturn\u001b[39;00m (\u001b[39m9\u001b[39m\u001b[39m*\u001b[39mV\u001b[39m*\u001b[39mrho\u001b[39m*\u001b[39mk_b\u001b[39m*\u001b[39m(T\u001b[39m/\u001b[39mO_D)\u001b[39m*\u001b[39m\u001b[39m*\u001b[39m\u001b[39m3\u001b[39m)\u001b[39m*\u001b[39m(GQ(\u001b[39m0\u001b[39;49m,O_D\u001b[39m/\u001b[39;49mT,g,\u001b[39m50\u001b[39;49m))\n",
      "\u001b[1;32mc:\\Users\\suriy\\OneDrive - Indian Institute of Science\\Desktop\\HW2\\test.ipynb Cell 3\u001b[0m in \u001b[0;36mGQ\u001b[1;34m(a, b, f, N)\u001b[0m\n\u001b[0;32m     <a href='vscode-notebook-cell:/c%3A/Users/suriy/OneDrive%20-%20Indian%20Institute%20of%20Science/Desktop/HW2/test.ipynb#W2sZmlsZQ%3D%3D?line=38'>39</a>\u001b[0m \u001b[39mdef\u001b[39;00m \u001b[39mGQ\u001b[39m(a,b,f,N):\n\u001b[1;32m---> <a href='vscode-notebook-cell:/c%3A/Users/suriy/OneDrive%20-%20Indian%20Institute%20of%20Science/Desktop/HW2/test.ipynb#W2sZmlsZQ%3D%3D?line=39'>40</a>\u001b[0m     x,w \u001b[39m=\u001b[39m gaussxwab(N,a,b)\n\u001b[0;32m     <a href='vscode-notebook-cell:/c%3A/Users/suriy/OneDrive%20-%20Indian%20Institute%20of%20Science/Desktop/HW2/test.ipynb#W2sZmlsZQ%3D%3D?line=40'>41</a>\u001b[0m     S \u001b[39m=\u001b[39m \u001b[39m0\u001b[39m\n\u001b[0;32m     <a href='vscode-notebook-cell:/c%3A/Users/suriy/OneDrive%20-%20Indian%20Institute%20of%20Science/Desktop/HW2/test.ipynb#W2sZmlsZQ%3D%3D?line=41'>42</a>\u001b[0m     \u001b[39mfor\u001b[39;00m i \u001b[39min\u001b[39;00m np\u001b[39m.\u001b[39marange(\u001b[39m0\u001b[39m,N):\n",
      "\u001b[1;32mc:\\Users\\suriy\\OneDrive - Indian Institute of Science\\Desktop\\HW2\\test.ipynb Cell 3\u001b[0m in \u001b[0;36mgaussxwab\u001b[1;34m(N, a, b)\u001b[0m\n\u001b[0;32m     <a href='vscode-notebook-cell:/c%3A/Users/suriy/OneDrive%20-%20Indian%20Institute%20of%20Science/Desktop/HW2/test.ipynb#W2sZmlsZQ%3D%3D?line=32'>33</a>\u001b[0m \u001b[39mdef\u001b[39;00m \u001b[39mgaussxwab\u001b[39m (N,a,b):\n\u001b[1;32m---> <a href='vscode-notebook-cell:/c%3A/Users/suriy/OneDrive%20-%20Indian%20Institute%20of%20Science/Desktop/HW2/test.ipynb#W2sZmlsZQ%3D%3D?line=33'>34</a>\u001b[0m     x,w \u001b[39m=\u001b[39m gaussxw (N)\n\u001b[0;32m     <a href='vscode-notebook-cell:/c%3A/Users/suriy/OneDrive%20-%20Indian%20Institute%20of%20Science/Desktop/HW2/test.ipynb#W2sZmlsZQ%3D%3D?line=34'>35</a>\u001b[0m     \u001b[39mreturn\u001b[39;00m \u001b[39m0.5\u001b[39m\u001b[39m*\u001b[39m(b\u001b[39m-\u001b[39ma)\u001b[39m*\u001b[39mx \u001b[39m+\u001b[39m\u001b[39m0.5\u001b[39m\u001b[39m*\u001b[39m( b\u001b[39m+\u001b[39ma ), \u001b[39m0.5\u001b[39m\u001b[39m*\u001b[39m(b\u001b[39m-\u001b[39ma)\u001b[39m*\u001b[39mw\n",
      "\u001b[1;32mc:\\Users\\suriy\\OneDrive - Indian Institute of Science\\Desktop\\HW2\\test.ipynb Cell 3\u001b[0m in \u001b[0;36mgaussxw\u001b[1;34m(N)\u001b[0m\n\u001b[0;32m     <a href='vscode-notebook-cell:/c%3A/Users/suriy/OneDrive%20-%20Indian%20Institute%20of%20Science/Desktop/HW2/test.ipynb#W2sZmlsZQ%3D%3D?line=17'>18</a>\u001b[0m \u001b[39mwhile\u001b[39;00m delta \u001b[39m>\u001b[39m epsilon :\n\u001b[0;32m     <a href='vscode-notebook-cell:/c%3A/Users/suriy/OneDrive%20-%20Indian%20Institute%20of%20Science/Desktop/HW2/test.ipynb#W2sZmlsZQ%3D%3D?line=18'>19</a>\u001b[0m     p0 \u001b[39m=\u001b[39m np\u001b[39m.\u001b[39mones(N, \u001b[39mfloat\u001b[39m )\n\u001b[1;32m---> <a href='vscode-notebook-cell:/c%3A/Users/suriy/OneDrive%20-%20Indian%20Institute%20of%20Science/Desktop/HW2/test.ipynb#W2sZmlsZQ%3D%3D?line=19'>20</a>\u001b[0m     p1 \u001b[39m=\u001b[39m np\u001b[39m.\u001b[39;49mcopy(x)\n\u001b[0;32m     <a href='vscode-notebook-cell:/c%3A/Users/suriy/OneDrive%20-%20Indian%20Institute%20of%20Science/Desktop/HW2/test.ipynb#W2sZmlsZQ%3D%3D?line=21'>22</a>\u001b[0m \u001b[39mfor\u001b[39;00m k \u001b[39min\u001b[39;00m \u001b[39mrange\u001b[39m (\u001b[39m1\u001b[39m,N):\n\u001b[0;32m     <a href='vscode-notebook-cell:/c%3A/Users/suriy/OneDrive%20-%20Indian%20Institute%20of%20Science/Desktop/HW2/test.ipynb#W2sZmlsZQ%3D%3D?line=22'>23</a>\u001b[0m     p0 ,p1 \u001b[39m=\u001b[39m p1 ,((\u001b[39m2\u001b[39m\u001b[39m*\u001b[39m k \u001b[39m+\u001b[39m\u001b[39m1\u001b[39m)\u001b[39m*\u001b[39m x\u001b[39m*\u001b[39mp1 \u001b[39m-\u001b[39mk\u001b[39m*\u001b[39mp0 )\u001b[39m/\u001b[39m( k \u001b[39m+\u001b[39m\u001b[39m1\u001b[39m)\n",
      "File \u001b[1;32m<__array_function__ internals>:180\u001b[0m, in \u001b[0;36mcopy\u001b[1;34m(*args, **kwargs)\u001b[0m\n",
      "File \u001b[1;32mc:\\Users\\suriy\\AppData\\Local\\Programs\\Python\\Python310\\lib\\site-packages\\numpy\\lib\\function_base.py:959\u001b[0m, in \u001b[0;36mcopy\u001b[1;34m(a, order, subok)\u001b[0m\n\u001b[0;32m    870\u001b[0m \u001b[39m@array_function_dispatch\u001b[39m(_copy_dispatcher)\n\u001b[0;32m    871\u001b[0m \u001b[39mdef\u001b[39;00m \u001b[39mcopy\u001b[39m(a, order\u001b[39m=\u001b[39m\u001b[39m'\u001b[39m\u001b[39mK\u001b[39m\u001b[39m'\u001b[39m, subok\u001b[39m=\u001b[39m\u001b[39mFalse\u001b[39;00m):\n\u001b[0;32m    872\u001b[0m     \u001b[39m\"\"\"\u001b[39;00m\n\u001b[0;32m    873\u001b[0m \u001b[39m    Return an array copy of the given object.\u001b[39;00m\n\u001b[0;32m    874\u001b[0m \n\u001b[1;32m   (...)\u001b[0m\n\u001b[0;32m    957\u001b[0m \n\u001b[0;32m    958\u001b[0m \u001b[39m    \"\"\"\u001b[39;00m\n\u001b[1;32m--> 959\u001b[0m     \u001b[39mreturn\u001b[39;00m array(a, order\u001b[39m=\u001b[39;49morder, subok\u001b[39m=\u001b[39;49msubok, copy\u001b[39m=\u001b[39;49m\u001b[39mTrue\u001b[39;49;00m)\n",
      "\u001b[1;31mKeyboardInterrupt\u001b[0m: "
     ]
    }
   ],
   "source": [
    "import numpy as np\n",
    "import sympy as smp\n",
    "import matplotlib.pyplot as plt\n",
    "import pandas as pd\n",
    "\n",
    "\n",
    "def gaussxw(N):\n",
    "    \n",
    "    a = np.linspace(3 ,4*N -1,N )/(4* N +2)   # Initial approximation to roots of the Legendre polynomial\n",
    "    \n",
    "    x = np.cos (np.pi*a +1/(8* N*N*np.tan(a)))\n",
    "\n",
    "    # Find roots using Newton ’s method\n",
    "\n",
    "    epsilon = 10**-15\n",
    "    delta = 1.0\n",
    "\n",
    "    while delta > epsilon :\n",
    "        p0 = np.ones(N, float )\n",
    "        p1 = np.copy(x)\n",
    "\n",
    "    for k in range (1,N):\n",
    "        p0 ,p1 = p1 ,((2* k +1)* x*p1 -k*p0 )/( k +1)\n",
    "\n",
    "    dp = (N +1)*( p0 -x*p1 )/(1 -x*x)\n",
    "    dx = p1/dp\n",
    "    x  = dx\n",
    "    delta = max( abs(dx ))\n",
    "    w = 2*( N +1)*( N +1)/( N*N*(1 -x*x)* dp*dp)\n",
    "    return x,w\n",
    "\n",
    "\n",
    "def gaussxwab (N,a,b):\n",
    "    x,w = gaussxw (N)\n",
    "    return 0.5*(b-a)*x +0.5*( b+a ), 0.5*(b-a)*w    \n",
    "\n",
    "\n",
    "\n",
    "def GQ(a,b,f,N):\n",
    "    x,w = gaussxwab(N,a,b)\n",
    "    S = 0\n",
    "    for i in np.arange(0,N):\n",
    "        S = S + w[i]*f(x[i])\n",
    "    return S\n",
    "\n",
    "def g(x) :\n",
    "    return x**4*np.exp(x)/(np.exp(x)-1)**2\n",
    "\n",
    "def Cv(T):\n",
    "    V = 1000*10**(-6)\n",
    "    rho = 6.022*10**(28)\n",
    "    k_b = 1.380649*10**(-23)\n",
    "    O_D= 428\n",
    "\n",
    "    return (9*V*rho*k_b*(T/O_D)**3)*(GQ(0,O_D/T,g,50))\n",
    "\n",
    "T_ = np.linspace(5,500,100)\n",
    "C_V = []\n",
    "\n",
    "for i in np.arange(1,100):\n",
    "    C_V.append(Cv(5*i))\n",
    "\n",
    "plt.plot(T_,C_V)\n",
    "plt.xlabel(\"x\")\n",
    "plt.ylabel(\"E(x)\")\n",
    "plt.title(\"Integral of the gaussian (Error function)\")\n",
    "plt.show()"
   ]
  },
  {
   "cell_type": "code",
   "execution_count": null,
   "metadata": {},
   "outputs": [],
   "source": [
    "def gaussxw(N):\n",
    "    \n",
    "    a = np.linspace(3 ,4*N -1,N )/(4* N +2)   # Initial approximation to roots of the Legendre polynomial\n",
    "    \n",
    "    x = np.cos(np.pi*a +1/(8* N*N*np.tan(a)))\n",
    "\n",
    "    # Find roots using Newton ’s method\n",
    "\n",
    "    epsilon = 10**-15\n",
    "    delta = 1.0\n",
    "\n",
    "    while delta > epsilon :\n",
    "        p0 = np.ones(N, float )\n",
    "        p1 = np.copy(x)\n",
    "\n",
    "    for k in np.arange(1,N):\n",
    "        p0 ,p1 = p1 ,((2* k +1)* x*p1 -k*p0 )/( k +1)\n",
    "\n",
    "    dp = (N +1)*( p0 -x*p1 )/(1 -x*x)\n",
    "    dx = p1/dp\n",
    "    x  = dx\n",
    "    delta = max(abs(dx))\n",
    "    w = 2*( N +1)*( N +1)/( N*N*(1 -x*x)* dp*dp)\n",
    "    return x,w"
   ]
  },
  {
   "cell_type": "code",
   "execution_count": null,
   "metadata": {},
   "outputs": [
    {
     "ename": "KeyboardInterrupt",
     "evalue": "",
     "output_type": "error",
     "traceback": [
      "\u001b[1;31m---------------------------------------------------------------------------\u001b[0m",
      "\u001b[1;31mKeyboardInterrupt\u001b[0m                         Traceback (most recent call last)",
      "\u001b[1;32mc:\\Users\\suriy\\OneDrive - Indian Institute of Science\\Desktop\\HW2\\test.ipynb Cell 5\u001b[0m in \u001b[0;36m<cell line: 1>\u001b[1;34m()\u001b[0m\n\u001b[1;32m----> <a href='vscode-notebook-cell:/c%3A/Users/suriy/OneDrive%20-%20Indian%20Institute%20of%20Science/Desktop/HW2/test.ipynb#W4sZmlsZQ%3D%3D?line=0'>1</a>\u001b[0m gaussxw(\u001b[39m1\u001b[39;49m)\n",
      "\u001b[1;32mc:\\Users\\suriy\\OneDrive - Indian Institute of Science\\Desktop\\HW2\\test.ipynb Cell 5\u001b[0m in \u001b[0;36mgaussxw\u001b[1;34m(N)\u001b[0m\n\u001b[0;32m     <a href='vscode-notebook-cell:/c%3A/Users/suriy/OneDrive%20-%20Indian%20Institute%20of%20Science/Desktop/HW2/test.ipynb#W4sZmlsZQ%3D%3D?line=11'>12</a>\u001b[0m \u001b[39mwhile\u001b[39;00m delta \u001b[39m>\u001b[39m epsilon :\n\u001b[0;32m     <a href='vscode-notebook-cell:/c%3A/Users/suriy/OneDrive%20-%20Indian%20Institute%20of%20Science/Desktop/HW2/test.ipynb#W4sZmlsZQ%3D%3D?line=12'>13</a>\u001b[0m     p0 \u001b[39m=\u001b[39m np\u001b[39m.\u001b[39mones(N, \u001b[39mfloat\u001b[39m )\n\u001b[1;32m---> <a href='vscode-notebook-cell:/c%3A/Users/suriy/OneDrive%20-%20Indian%20Institute%20of%20Science/Desktop/HW2/test.ipynb#W4sZmlsZQ%3D%3D?line=13'>14</a>\u001b[0m     p1 \u001b[39m=\u001b[39m np\u001b[39m.\u001b[39;49mcopy(x)\n\u001b[0;32m     <a href='vscode-notebook-cell:/c%3A/Users/suriy/OneDrive%20-%20Indian%20Institute%20of%20Science/Desktop/HW2/test.ipynb#W4sZmlsZQ%3D%3D?line=15'>16</a>\u001b[0m \u001b[39mfor\u001b[39;00m k \u001b[39min\u001b[39;00m np\u001b[39m.\u001b[39marange(\u001b[39m1\u001b[39m,N):\n\u001b[0;32m     <a href='vscode-notebook-cell:/c%3A/Users/suriy/OneDrive%20-%20Indian%20Institute%20of%20Science/Desktop/HW2/test.ipynb#W4sZmlsZQ%3D%3D?line=16'>17</a>\u001b[0m     p0 ,p1 \u001b[39m=\u001b[39m p1 ,((\u001b[39m2\u001b[39m\u001b[39m*\u001b[39m k \u001b[39m+\u001b[39m\u001b[39m1\u001b[39m)\u001b[39m*\u001b[39m x\u001b[39m*\u001b[39mp1 \u001b[39m-\u001b[39mk\u001b[39m*\u001b[39mp0 )\u001b[39m/\u001b[39m( k \u001b[39m+\u001b[39m\u001b[39m1\u001b[39m)\n",
      "File \u001b[1;32m<__array_function__ internals>:180\u001b[0m, in \u001b[0;36mcopy\u001b[1;34m(*args, **kwargs)\u001b[0m\n",
      "File \u001b[1;32mc:\\Users\\suriy\\AppData\\Local\\Programs\\Python\\Python310\\lib\\site-packages\\numpy\\lib\\function_base.py:959\u001b[0m, in \u001b[0;36mcopy\u001b[1;34m(a, order, subok)\u001b[0m\n\u001b[0;32m    870\u001b[0m \u001b[39m@array_function_dispatch\u001b[39m(_copy_dispatcher)\n\u001b[0;32m    871\u001b[0m \u001b[39mdef\u001b[39;00m \u001b[39mcopy\u001b[39m(a, order\u001b[39m=\u001b[39m\u001b[39m'\u001b[39m\u001b[39mK\u001b[39m\u001b[39m'\u001b[39m, subok\u001b[39m=\u001b[39m\u001b[39mFalse\u001b[39;00m):\n\u001b[0;32m    872\u001b[0m     \u001b[39m\"\"\"\u001b[39;00m\n\u001b[0;32m    873\u001b[0m \u001b[39m    Return an array copy of the given object.\u001b[39;00m\n\u001b[0;32m    874\u001b[0m \n\u001b[1;32m   (...)\u001b[0m\n\u001b[0;32m    957\u001b[0m \n\u001b[0;32m    958\u001b[0m \u001b[39m    \"\"\"\u001b[39;00m\n\u001b[1;32m--> 959\u001b[0m     \u001b[39mreturn\u001b[39;00m array(a, order\u001b[39m=\u001b[39;49morder, subok\u001b[39m=\u001b[39;49msubok, copy\u001b[39m=\u001b[39;49m\u001b[39mTrue\u001b[39;49;00m)\n",
      "\u001b[1;31mKeyboardInterrupt\u001b[0m: "
     ]
    }
   ],
   "source": [
    "gaussxw(1)"
   ]
  },
  {
   "cell_type": "code",
   "execution_count": null,
   "metadata": {},
   "outputs": [
    {
     "name": "stdout",
     "output_type": "stream",
     "text": [
      "[ 7.74596669e-01 -8.96888137e-17 -7.74596669e-01]\n",
      "[0.55555556 0.88888889 0.55555556]\n"
     ]
    },
    {
     "data": {
      "text/plain": [
       "19"
      ]
     },
     "execution_count": 9,
     "metadata": {},
     "output_type": "execute_result"
    }
   ],
   "source": [
    "from numpy import ones ,copy ,cos ,tan ,pi , linspace\n",
    "def gaussxw (N):\n",
    "# Initial approximation to roots of the Legendre polynomial\n",
    "    a = linspace (3 ,4*N -1,N )/(4* N +2)\n",
    "    x = cos (pi*a +1/(8* N*N* tan(a)))\n",
    "# Find roots using Newton ’s method\n",
    "    epsilon = 1e-15\n",
    "    delta = 1.0\n",
    "    while delta > epsilon :\n",
    "        p0 = ones (N, float )\n",
    "        p1 = copy (x)\n",
    "        for k in range (1,N):\n",
    "            p0 ,p1 = p1 ,((2* k +1)* x*p1 -k*p0 )/( k +1)\n",
    "        dp = (N +1)*( p0 -x*p1 )/(1 -x*x)\n",
    "        dx = p1/dp\n",
    "        x -= dx\n",
    "        delta = max( abs(dx ))\n",
    "# Calculate the weights\n",
    "    w = 2*( N +1)*( N +1)/( N*N*(1 -x*x)* dp*dp)\n",
    "    return x,w\n",
    "def gaussxwab (N,a,b):\n",
    "    x,w = gaussxw (N)\n",
    "    return 0.5*(b-a)*x +0.5*( b+a ) ,0.5*(b-a)*w\n",
    "x,w = gaussxw (3)\n",
    "print(x)\n",
    "print(w)\n",
    "19"
   ]
  },
  {
   "cell_type": "code",
   "execution_count": null,
   "metadata": {},
   "outputs": [
    {
     "name": "stdout",
     "output_type": "stream",
     "text": [
      "1.380649e-23\n"
     ]
    }
   ],
   "source": [
    "import scipy.constants as sc\n",
    "\n",
    "print(sc.k)"
   ]
  },
  {
   "cell_type": "code",
   "execution_count": null,
   "metadata": {},
   "outputs": [
    {
     "name": "stdout",
     "output_type": "stream",
     "text": [
      "1.4142135623730951\n"
     ]
    }
   ],
   "source": [
    "import cmath as cm\n",
    "print(abs(1+1j))\n"
   ]
  },
  {
   "cell_type": "code",
   "execution_count": null,
   "metadata": {},
   "outputs": [
    {
     "data": {
      "text/plain": [
       "(663, 676)"
      ]
     },
     "execution_count": 1,
     "metadata": {},
     "output_type": "execute_result"
    }
   ],
   "source": [
    "import numpy as np\n",
    "import sympy as smp\n",
    "import matplotlib.pyplot as plt\n",
    "import pandas as pd\n",
    "import cmath as cm\n",
    "from Integration_techniques import *\n",
    "import scipy.constants as sc\n",
    "\n",
    "# part a \n",
    "\n",
    "Data = pd.read_csv(\"stm.txt\", sep=\" \", header = None)\n",
    "\n",
    "Data.shape"
   ]
  },
  {
   "cell_type": "code",
   "execution_count": null,
   "metadata": {},
   "outputs": [],
   "source": []
  },
  {
   "cell_type": "code",
   "execution_count": null,
   "metadata": {},
   "outputs": [],
   "source": []
  },
  {
   "cell_type": "code",
   "execution_count": null,
   "metadata": {},
   "outputs": [
    {
     "data": {
      "text/plain": [
       "0.147979484546652"
      ]
     },
     "execution_count": 2,
     "metadata": {},
     "output_type": "execute_result"
    }
   ],
   "source": [
    "import numpy as np\n",
    "\n",
    "(np.sin(10)**2)/2\n"
   ]
  },
  {
   "cell_type": "code",
   "execution_count": null,
   "metadata": {},
   "outputs": [],
   "source": []
  }
 ],
 "metadata": {
  "kernelspec": {
   "display_name": "Python 3",
   "language": "python",
   "name": "python3"
  },
  "language_info": {
   "codemirror_mode": {
    "name": "ipython",
    "version": 3
   },
   "file_extension": ".py",
   "mimetype": "text/x-python",
   "name": "python",
   "nbconvert_exporter": "python",
   "pygments_lexer": "ipython3",
   "version": "3.10.4"
  },
  "orig_nbformat": 4,
  "vscode": {
   "interpreter": {
    "hash": "ead2430331df7ca0bfeae98f43a647b4ad8730c22aa96992cd8d80224344966e"
   }
  }
 },
 "nbformat": 4,
 "nbformat_minor": 2
}
